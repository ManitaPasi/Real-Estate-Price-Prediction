{
 "cells": [
  {
   "cell_type": "markdown",
   "metadata": {},
   "source": [
    "## Importing packages"
   ]
  },
  {
   "cell_type": "code",
   "execution_count": null,
   "metadata": {},
   "outputs": [],
   "source": [
    "%matplotlib inline\n",
    "import numpy as np\n",
    "import scipy.stats as stats\n",
    "import pandas as pd\n",
    "import matplotlib.pyplot as plt\n",
    "import seaborn as sns\n",
    "from scipy import stats\n",
    "plt.style.use('ggplot')\n",
    "test_ = pd.read_csv('test.csv')"
   ]
  },
  {
   "cell_type": "code",
   "execution_count": 42,
   "metadata": {},
   "outputs": [
    {
     "data": {
      "text/plain": [
       "(1460, 81)"
      ]
     },
     "execution_count": 42,
     "metadata": {},
     "output_type": "execute_result"
    }
   ],
   "source": [
    "ames = pd.read_csv('train.csv')\n",
    "ames.shape"
   ]
  },
  {
   "cell_type": "code",
   "execution_count": null,
   "metadata": {},
   "outputs": [],
   "source": [
    "ames.columns = list(map(lambda x: x.replace(\".\",\"_\").replace(\"1\",\"_1\").replace(\"2\",\"_2\").replace(\"3\",\"_3\").replace(\"___\",\"_\").replace(\"__\",\"_\"), ames.columns))\n",
    "test_.columns = list(map(lambda x: x.replace(\".\",\"_\").replace(\"1\",\"_1\").replace(\"2\",\"_2\").replace(\"3\",\"_3\").replace(\"___\",\"_\").replace(\"__\",\"_\"), test_.columns))"
   ]
  },
  {
   "cell_type": "markdown",
   "metadata": {},
   "source": [
    "## Dropping irrelevant columns"
   ]
  },
  {
   "cell_type": "code",
   "execution_count": null,
   "metadata": {},
   "outputs": [],
   "source": [
    "ames.drop('Id', axis = 1, inplace = True)\n",
    "test_.drop('Id', axis = 1, inplace = True)"
   ]
  },
  {
   "cell_type": "code",
   "execution_count": null,
   "metadata": {},
   "outputs": [],
   "source": [
    "#drop MSSubClass because it was included into three other columns: BdlgType, YearBuilt, 'HouseStyle'\n",
    "ames.drop('MSSubClass', axis=1, inplace=True)\n",
    "test_.drop('MSSubClass', axis=1, inplace=True)"
   ]
  },
  {
   "cell_type": "code",
   "execution_count": null,
   "metadata": {},
   "outputs": [],
   "source": [
    "#drop street because a majority of values is paved and only 6 values are grvl. Thus, we conclued that street does not affect SalePrice.\n",
    "ames.drop('Street', axis=1, inplace=True)\n",
    "test_.drop('Street', axis=1, inplace=True)"
   ]
  },
  {
   "cell_type": "code",
   "execution_count": null,
   "metadata": {},
   "outputs": [],
   "source": [
    "# drop Utilities as only one value is NoSewa. The rest are AllPub. Thus, we concluded that utilities was not a factor in determining SalePrice.\n",
    "ames.drop('Utilities', axis=1, inplace=True)\n",
    "test_.drop('Utilities', axis=1, inplace=True)"
   ]
  },
  {
   "cell_type": "code",
   "execution_count": null,
   "metadata": {},
   "outputs": [],
   "source": [
    "#keep roof style & material the same since the SalePrice is different for different materials\n",
    "ames.groupby('RoofMatl').mean()['SalePrice'].sort_values(ascending=False)"
   ]
  },
  {
   "cell_type": "code",
   "execution_count": null,
   "metadata": {},
   "outputs": [],
   "source": [
    "ames.drop('ExterQual', axis=1, inplace=True)\n",
    "ames.drop('ExterCond', axis=1, inplace=True)"
   ]
  },
  {
   "cell_type": "code",
   "execution_count": null,
   "metadata": {},
   "outputs": [],
   "source": [
    "test_.drop('ExterQual', axis=1, inplace=True)\n",
    "test_.drop('ExterCond', axis=1, inplace=True)"
   ]
  },
  {
   "cell_type": "code",
   "execution_count": null,
   "metadata": {},
   "outputs": [],
   "source": [
    "ames.drop('BsmtQual', axis=1, inplace=True)\n",
    "ames.drop('BsmtCond', axis=1, inplace=True)"
   ]
  },
  {
   "cell_type": "code",
   "execution_count": null,
   "metadata": {},
   "outputs": [],
   "source": [
    "test_.drop('BsmtQual', axis=1, inplace=True)\n",
    "test_.drop('BsmtCond', axis=1, inplace=True)"
   ]
  },
  {
   "cell_type": "code",
   "execution_count": null,
   "metadata": {},
   "outputs": [],
   "source": [
    "ames.drop('GarageQual', axis=1, inplace=True)\n",
    "ames.drop('GarageCond', axis=1, inplace=True)"
   ]
  },
  {
   "cell_type": "code",
   "execution_count": null,
   "metadata": {},
   "outputs": [],
   "source": [
    "test_.drop('GarageQual', axis=1, inplace=True)\n",
    "test_.drop('GarageCond', axis=1, inplace=True)"
   ]
  },
  {
   "cell_type": "code",
   "execution_count": null,
   "metadata": {},
   "outputs": [],
   "source": [
    "ames.drop('PoolQC', axis=1, inplace=True)\n",
    "test_.drop('PoolQC', axis=1, inplace=True)"
   ]
  },
  {
   "cell_type": "code",
   "execution_count": null,
   "metadata": {},
   "outputs": [],
   "source": [
    "ames.drop('LotFrontage', axis=1, inplace=True)\n",
    "test_.drop('LotFrontage', axis=1, inplace=True)"
   ]
  },
  {
   "cell_type": "code",
   "execution_count": null,
   "metadata": {},
   "outputs": [],
   "source": [
    "ames.drop('FireplaceQu', axis=1, inplace=True)\n",
    "test_.drop('FireplaceQu', axis=1, inplace=True)"
   ]
  },
  {
   "cell_type": "code",
   "execution_count": null,
   "metadata": {},
   "outputs": [],
   "source": [
    "ames.drop('KitchenQual', axis=1, inplace=True)\n",
    "test_.drop('KitchenQual', axis=1, inplace=True)"
   ]
  },
  {
   "cell_type": "code",
   "execution_count": null,
   "metadata": {},
   "outputs": [],
   "source": [
    "# we dropped a majority of the Quality and Condition columns because we assumed that OverallCondition and OverallQuality basically described all those other features since OveralQ and OverallC described the entire house."
   ]
  },
  {
   "cell_type": "code",
   "execution_count": null,
   "metadata": {},
   "outputs": [],
   "source": [
    "#drop these features since combined they equal another feature already included: TotalBsmtSF\n",
    "ames.drop('BsmtFinSF_1', axis=1, inplace=True)\n",
    "ames.drop('BsmtFinSF_2', axis=1, inplace=True)\n",
    "ames.drop('BsmtUnfSF', axis=1, inplace=True)"
   ]
  },
  {
   "cell_type": "code",
   "execution_count": null,
   "metadata": {},
   "outputs": [],
   "source": [
    "test_.drop('BsmtFinSF_1', axis=1, inplace=True)\n",
    "test_.drop('BsmtFinSF_2', axis=1, inplace=True)\n",
    "test_.drop('BsmtUnfSF', axis=1, inplace=True)"
   ]
  },
  {
   "cell_type": "code",
   "execution_count": null,
   "metadata": {},
   "outputs": [],
   "source": [
    "#drop these features since combined they equal another feature already included: GrLivArea\n",
    "ames.drop('_1stFlrSF', axis=1, inplace=True)\n",
    "ames.drop('_2ndFlrSF', axis=1, inplace=True)\n",
    "ames.drop('LowQualFinSF', axis=1, inplace=True)"
   ]
  },
  {
   "cell_type": "code",
   "execution_count": null,
   "metadata": {},
   "outputs": [],
   "source": [
    "test_.drop('_1stFlrSF', axis=1, inplace=True)\n",
    "test_.drop('_2ndFlrSF', axis=1, inplace=True)\n",
    "test_.drop('LowQualFinSF', axis=1, inplace=True)"
   ]
  },
  {
   "cell_type": "code",
   "execution_count": null,
   "metadata": {},
   "outputs": [],
   "source": [
    "#removed under the assumption of little importance for SalePrice\n",
    "ames.drop('GarageYrBlt', axis=1, inplace=True)\n",
    "test_.drop('GarageYrBlt', axis=1, inplace=True)"
   ]
  },
  {
   "cell_type": "code",
   "execution_count": null,
   "metadata": {},
   "outputs": [],
   "source": [
    "# heavily correlated with GarageCars but not as highly correlated with SalePrice as GarageCars is\n",
    "ames.drop('GarageArea', axis=1, inplace=True)\n",
    "test_.drop('GarageArea', axis=1, inplace=True)"
   ]
  },
  {
   "cell_type": "code",
   "execution_count": null,
   "metadata": {},
   "outputs": [],
   "source": [
    "ames.drop('MiscVal', axis=1, inplace=True)\n",
    "test_.drop('MiscVal', axis=1, inplace=True)"
   ]
  },
  {
   "cell_type": "code",
   "execution_count": null,
   "metadata": {},
   "outputs": [],
   "source": [
    "#change these features to categorical... as to not skew the results...1 is better than 2006\n",
    "ames['YrSold']= ames['YrSold'].astype('category')\n",
    "test_['YrSold']= test_['YrSold'].astype('category')"
   ]
  },
  {
   "cell_type": "code",
   "execution_count": null,
   "metadata": {},
   "outputs": [],
   "source": [
    "ames['MoSold']= ames['MoSold'].astype('category')\n",
    "test_['MoSold']= test_['MoSold'].astype('category')"
   ]
  },
  {
   "cell_type": "markdown",
   "metadata": {},
   "source": [
    "## Feature Engineering"
   ]
  },
  {
   "cell_type": "code",
   "execution_count": null,
   "metadata": {},
   "outputs": [],
   "source": [
    "#Since Landslope is increasing in slope size, we determined it as an ordinal value. We thus used ordinal encoding for Landslope so that we can use it in the model.\n",
    "ames.LandSlope = ames.LandSlope.str.replace('Gtl', '1')\n",
    "ames.LandSlope = ames.LandSlope.str.replace('Mod', '2')\n",
    "ames.LandSlope =ames.LandSlope.str.replace('Sev', '3')\n",
    "ames.LandSlope = ames.LandSlope.astype(int)\n",
    "##################\n",
    "test_.LandSlope = test_.LandSlope.str.replace('Gtl', '1')\n",
    "test_.LandSlope = test_.LandSlope.str.replace('Mod', '2')\n",
    "test_.LandSlope = test_.LandSlope.str.replace('Sev', '3')\n",
    "test_.LandSlope = test_.LandSlope.astype(int)"
   ]
  },
  {
   "cell_type": "code",
   "execution_count": null,
   "metadata": {},
   "outputs": [],
   "source": [
    "#New Column YrSinceRemod and remove YrRemodAdd. This will show how long the houses have been there since construction. However, there are a few values in YrRemodAdd that are different than YrBuilt.\n",
    "\n",
    "YearSinceRemod = ames.YrSold - ames.YearRemodAdd\n",
    "new_columns = ames.columns.tolist()\n",
    "new_columns.append('YearSinceRemod')\n",
    "\n",
    "ames = pd.concat([ames,YearSinceRemod], axis=1)\n",
    "\n",
    "ames.columns = new_columns\n",
    "\n",
    "ames.drop('YearRemodAdd', axis=1, inplace=True)"
   ]
  },
  {
   "cell_type": "code",
   "execution_count": null,
   "metadata": {},
   "outputs": [],
   "source": [
    "#merge bathroom features togethor to create one big bathroom column. Most real estate sites usually post total bathrooms rather than half baths and bsmt full baths\n",
    "Bathrooms = ames.BsmtFullBath + ames.FullBath + .5*(ames.BsmtHalfBath + ames.HalfBath)\n",
    "\n",
    "new_columns = ames.columns.tolist()\n",
    "new_columns.append('TotBathrooms')\n",
    "\n",
    "ames = pd.concat([ames,Bathrooms], axis=1)\n",
    "ames.columns = new_columns\n",
    "\n",
    "ames.drop(['BsmtFullBath', 'BsmtHalfBath', 'FullBath', 'HalfBath'], axis=1,inplace=True)\n",
    "\n"
   ]
  },
  {
   "cell_type": "markdown",
   "metadata": {},
   "source": [
    "## Replacing NA's that have meaning "
   ]
  },
  {
   "cell_type": "code",
   "execution_count": null,
   "metadata": {},
   "outputs": [],
   "source": [
    "#followed description provided by kaggle for imputation\n",
    "ames['MasVnrArea'].fillna(value=0.0, inplace=True)\n",
    "test_['MasVnrArea'].fillna(value=0.0, inplace=True)"
   ]
  },
  {
   "cell_type": "code",
   "execution_count": null,
   "metadata": {},
   "outputs": [],
   "source": [
    "ames['Alley']=ames['Alley'].fillna('No_Alley')\n",
    "ames['MasVnrType']=ames['MasVnrType'].fillna('None')\n",
    "ames['BsmtExposure']=ames['BsmtExposure'].fillna('No_basement')\n",
    "ames['BsmtFinType_1']=ames['BsmtFinType_1'].fillna('No_basement')\n",
    "ames['BsmtFinType_2']=ames['BsmtFinType_2'].fillna('No_basement')\n",
    "#electrical might be the real missing value, but it only has one missing value\n",
    "ames['Electrical']=ames['Electrical'].fillna('SBrkr')"
   ]
  },
  {
   "cell_type": "code",
   "execution_count": null,
   "metadata": {},
   "outputs": [],
   "source": [
    "test_['Alley']=test_['Alley'].fillna('No_Alley')\n",
    "test_['MasVnrType']=test_['MasVnrType'].fillna('None')\n",
    "test_['BsmtExposure']=test_['BsmtExposure'].fillna('No_basement')\n",
    "test_['BsmtFinType_1']=test_['BsmtFinType_1'].fillna('No_basement')\n",
    "test_['BsmtFinType_2']=test_['BsmtFinType_2'].fillna('No_basement')\n",
    "#electrical might be the real missing value, but it only has one missing value\n",
    "test_['Electrical']=test_['Electrical'].fillna('SBrkr')"
   ]
  },
  {
   "cell_type": "code",
   "execution_count": null,
   "metadata": {},
   "outputs": [],
   "source": [
    "ames['GarageType']=ames['GarageType'].fillna('No_Garage')\n",
    "ames['GarageFinish']=ames['GarageFinish'].fillna('No_Garage')\n",
    "ames['Fence']=ames['Fence'].fillna('No_Fence')\n",
    "ames['MiscFeature']=ames['MiscFeature'].fillna('None')"
   ]
  },
  {
   "cell_type": "code",
   "execution_count": null,
   "metadata": {},
   "outputs": [],
   "source": [
    "test_['GarageType']=test_['GarageType'].fillna('No_Garage')\n",
    "test_['GarageFinish']=test_['GarageFinish'].fillna('No_Garage')\n",
    "test_['Fence']=test_['Fence'].fillna('No_Fence')\n",
    "test_['MiscFeature']=test_['MiscFeature'].fillna('None')"
   ]
  },
  {
   "cell_type": "code",
   "execution_count": null,
   "metadata": {},
   "outputs": [],
   "source": [
    "#for encoding paved driveway to used for regression\n",
    "ames['PavedDrive'] = [1 if i=='N' else (2 if i=='P' else 3) for i in ames['PavedDrive']]\n",
    "test_['PavedDrive'] = [1 if i=='N' else (2 if i=='P' else 3) for i in test_['PavedDrive']]"
   ]
  },
  {
   "cell_type": "code",
   "execution_count": null,
   "metadata": {},
   "outputs": [],
   "source": [
    "#ordinal encoding as there is a progression in lotshape\n",
    "ames.LotShape = ames.LotShape.str.replace('Reg', '4')\n",
    "ames.LotShape = ames.LotShape.str.replace('IR1', '3')\n",
    "ames.LotShape =ames.LotShape.str.replace('IR2', '2')\n",
    "ames.LotShape =ames.LotShape.str.replace('IR3', '1')\n",
    "ames.LotShape = ames.LotShape.astype(int)"
   ]
  },
  {
   "cell_type": "code",
   "execution_count": null,
   "metadata": {},
   "outputs": [],
   "source": [
    "test_.LotShape = test_.LotShape.str.replace('Reg', '4')\n",
    "test_.LotShape = test_.LotShape.str.replace('IR1', '3')\n",
    "test_.LotShape =test_.LotShape.str.replace('IR2', '2')\n",
    "test_.LotShape =test_.LotShape.str.replace('IR3', '1')\n",
    "test_.LotShape = test_.LotShape.astype(int)"
   ]
  },
  {
   "cell_type": "code",
   "execution_count": null,
   "metadata": {},
   "outputs": [],
   "source": [
    "#ordinal encoding as there is a progression in GarageFinish\n",
    "ames['GarageFinish'] = ames['GarageFinish'].replace({'No_Garage':1, 'Unf':2,'RFn':3,'Fin':4})\n",
    "test_['GarageFinish'] = test_['GarageFinish'].replace({'No_Garage':1, 'Unf':2,'RFn':3,'Fin':4})"
   ]
  },
  {
   "cell_type": "code",
   "execution_count": null,
   "metadata": {},
   "outputs": [],
   "source": [
    "#Following documentation for imputation\n",
    "ames['GrLivArea'] = ames['GrLivArea'].fillna(value = 0.0)\n"
   ]
  },
  {
   "cell_type": "code",
   "execution_count": null,
   "metadata": {},
   "outputs": [],
   "source": []
  }
 ],
 "metadata": {
  "kernelspec": {
   "display_name": "Python 3",
   "language": "python",
   "name": "python3"
  },
  "language_info": {
   "codemirror_mode": {
    "name": "ipython",
    "version": 3
   },
   "file_extension": ".py",
   "mimetype": "text/x-python",
   "name": "python",
   "nbconvert_exporter": "python",
   "pygments_lexer": "ipython3",
   "version": "3.6.5"
  }
 },
 "nbformat": 4,
 "nbformat_minor": 2
}
